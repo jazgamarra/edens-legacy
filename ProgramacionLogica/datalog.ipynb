{
 "cells": [
  {
   "cell_type": "code",
   "execution_count": 1,
   "metadata": {},
   "outputs": [],
   "source": [
    "from pyDatalog import pyDatalog"
   ]
  },
  {
   "attachments": {},
   "cell_type": "markdown",
   "metadata": {},
   "source": [
    "###  Crear hechos y reglas "
   ]
  },
  {
   "cell_type": "code",
   "execution_count": null,
   "metadata": {},
   "outputs": [],
   "source": [
    "from pyDatalog import pyDatalog\n",
    "\n",
    "pyDatalog.create_terms('oso,elefante,gato,negro,gris,marron,grande,pequenho,Tamanho,Color,X,Oscuro')\n",
    "\n",
    "# hechos \n",
    "+Tamanho('oso','grande')\n",
    "+Tamanho('elefante','grande')\n",
    "+Tamanho('gato','pequenho')\n",
    "+Color('oso','marron')\n",
    "+Color('gato','negro')\n",
    "+Color('elefante','gris')\n",
    "\n",
    "# reglas \n",
    "Oscuro(X) <= (Color(X, 'negro'))\n",
    "Oscuro(X) <= (Color(X, 'marron'))\n",
    "\n",
    "# imprimir los animales grandes y oscuros \n",
    "print(Oscuro(X) & (Tamanho(X, 'grande')))   "
   ]
  },
  {
   "attachments": {},
   "cell_type": "markdown",
   "metadata": {},
   "source": [
    "Crear una lista con el resultado. "
   ]
  },
  {
   "cell_type": "code",
   "execution_count": 3,
   "metadata": {},
   "outputs": [
    {
     "name": "stdout",
     "output_type": "stream",
     "text": [
      "[('elefante',), ('oso',)]\n"
     ]
    }
   ],
   "source": [
    "\n",
    "pyDatalog.create_terms('oso,elefante,gato,negro,gris,marron,grande,pequenho,Tamanho,Color,X,Oscuro')\n",
    "\n",
    "# Hechos\n",
    "+Tamanho('oso', 'grande')\n",
    "+Tamanho('elefante', 'grande')\n",
    "+Tamanho('gato', 'pequenho')\n",
    "+Color('oso', 'marron')\n",
    "+Color('gato', 'negro')\n",
    "+Color('elefante', 'gris')\n",
    "\n",
    "# Reglas\n",
    "Oscuro(X) <= (Color(X, 'negro'))\n",
    "Oscuro(X) <= (Color(X, 'marron'))\n",
    "Oscuro(X) <= (Color(X, 'gris'))\n",
    "\n",
    "\n",
    "# Consulta\n",
    "resultados = [x for x in Oscuro(X) & Tamanho(X, 'grande')]\n",
    "\n",
    "print(resultados)\n"
   ]
  },
  {
   "attachments": {},
   "cell_type": "markdown",
   "metadata": {},
   "source": [
    "Prueba 1 \n"
   ]
  },
  {
   "cell_type": "code",
   "execution_count": 14,
   "metadata": {},
   "outputs": [
    {
     "name": "stdout",
     "output_type": "stream",
     "text": [
      "[('zona_caza',), ('montanha',), ('lago',)]\n"
     ]
    }
   ],
   "source": [
    "pyDatalog.create_terms('bosque,montanha,zona_caza,lago,Adyacentes,X')\n",
    "\n",
    "# bosque \n",
    "+Adyacentes('bosque', 'montanha')\n",
    "+Adyacentes('bosque', 'zona_caza')\n",
    "+Adyacentes('bosque', 'lago')\n",
    "\n",
    "# lago \n",
    "+Adyacentes('lago', 'bosque')\n",
    "+Adyacentes('lago', 'montanha')\n",
    "\n",
    "# montanha \n",
    "+Adyacentes('montanha', 'bosque')\n",
    "+Adyacentes('montanha', 'zona_caza')\n",
    "+Adyacentes('montanha', 'lago')\n",
    "\n",
    "# zona de caza \n",
    "+Adyacentes('zona_caza', 'bosque')\n",
    "+Adyacentes('zona_caza', 'montanha')\n",
    "\n",
    "resultado = [ x for x in Adyacentes('bosque', X) ]\n",
    "print(resultado)\n",
    "\n",
    "\n"
   ]
  }
 ],
 "metadata": {
  "kernelspec": {
   "display_name": "Python 3",
   "language": "python",
   "name": "python3"
  },
  "language_info": {
   "codemirror_mode": {
    "name": "ipython",
    "version": 3
   },
   "file_extension": ".py",
   "mimetype": "text/x-python",
   "name": "python",
   "nbconvert_exporter": "python",
   "pygments_lexer": "ipython3",
   "version": "3.10.10"
  },
  "orig_nbformat": 4,
  "vscode": {
   "interpreter": {
    "hash": "e7370f93d1d0cde622a1f8e1c04877d8463912d04d973331ad4851f04de6915a"
   }
  }
 },
 "nbformat": 4,
 "nbformat_minor": 2
}
